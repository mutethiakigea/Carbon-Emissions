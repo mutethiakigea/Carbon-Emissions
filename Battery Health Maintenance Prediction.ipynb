{
 "cells": [
  {
   "cell_type": "code",
   "execution_count": 1,
   "id": "b126a3cf",
   "metadata": {},
   "outputs": [],
   "source": [
    "#importing Libraries\n",
    "import pandas as pd\n",
    "import numpy as np\n",
    "import matplotlib.pyplot as plt\n",
    "import seaborn as sns"
   ]
  },
  {
   "cell_type": "code",
   "execution_count": 2,
   "id": "b2cbb5c6",
   "metadata": {},
   "outputs": [],
   "source": [
    "# Loading the dataset\n",
    "datam=pd.read_csv(\"battery_health_data.csv\")"
   ]
  },
  {
   "cell_type": "markdown",
   "id": "8191dd52",
   "metadata": {},
   "source": [
    "### EDA"
   ]
  },
  {
   "cell_type": "code",
   "execution_count": 3,
   "id": "03fc2ba5",
   "metadata": {},
   "outputs": [
    {
     "data": {
      "text/html": [
       "<div>\n",
       "<style scoped>\n",
       "    .dataframe tbody tr th:only-of-type {\n",
       "        vertical-align: middle;\n",
       "    }\n",
       "\n",
       "    .dataframe tbody tr th {\n",
       "        vertical-align: top;\n",
       "    }\n",
       "\n",
       "    .dataframe thead th {\n",
       "        text-align: right;\n",
       "    }\n",
       "</style>\n",
       "<table border=\"1\" class=\"dataframe\">\n",
       "  <thead>\n",
       "    <tr style=\"text-align: right;\">\n",
       "      <th></th>\n",
       "      <th>Timestamp</th>\n",
       "      <th>Degradation Rate</th>\n",
       "      <th>Charging Cycles</th>\n",
       "    </tr>\n",
       "  </thead>\n",
       "  <tbody>\n",
       "    <tr>\n",
       "      <th>0</th>\n",
       "      <td>2022-05-06 04:07:12</td>\n",
       "      <td>1.31</td>\n",
       "      <td>114</td>\n",
       "    </tr>\n",
       "    <tr>\n",
       "      <th>1</th>\n",
       "      <td>2023-02-03 11:53:59</td>\n",
       "      <td>0.25</td>\n",
       "      <td>236</td>\n",
       "    </tr>\n",
       "    <tr>\n",
       "      <th>2</th>\n",
       "      <td>2023-11-11 00:00:52</td>\n",
       "      <td>0.21</td>\n",
       "      <td>124</td>\n",
       "    </tr>\n",
       "    <tr>\n",
       "      <th>3</th>\n",
       "      <td>2023-08-08 12:22:25</td>\n",
       "      <td>0.78</td>\n",
       "      <td>79</td>\n",
       "    </tr>\n",
       "    <tr>\n",
       "      <th>4</th>\n",
       "      <td>2022-01-15 12:07:56</td>\n",
       "      <td>0.56</td>\n",
       "      <td>415</td>\n",
       "    </tr>\n",
       "  </tbody>\n",
       "</table>\n",
       "</div>"
      ],
      "text/plain": [
       "             Timestamp  Degradation Rate  Charging Cycles\n",
       "0  2022-05-06 04:07:12              1.31              114\n",
       "1  2023-02-03 11:53:59              0.25              236\n",
       "2  2023-11-11 00:00:52              0.21              124\n",
       "3  2023-08-08 12:22:25              0.78               79\n",
       "4  2022-01-15 12:07:56              0.56              415"
      ]
     },
     "execution_count": 3,
     "metadata": {},
     "output_type": "execute_result"
    }
   ],
   "source": [
    "datam.head()"
   ]
  },
  {
   "cell_type": "code",
   "execution_count": 4,
   "id": "afa36283",
   "metadata": {},
   "outputs": [
    {
     "name": "stdout",
     "output_type": "stream",
     "text": [
      "Timestamp           0\n",
      "Degradation Rate    0\n",
      "Charging Cycles     0\n",
      "dtype: int64\n"
     ]
    }
   ],
   "source": [
    "# Checking for missing values\n",
    "print(datam.isnull().sum())"
   ]
  },
  {
   "cell_type": "code",
   "execution_count": 5,
   "id": "69c11d1e",
   "metadata": {},
   "outputs": [],
   "source": [
    "# Converting 'Timestamp' to datetime\n",
    "datam['Timestamp'] = pd.to_datetime(datam['Timestamp'])"
   ]
  },
  {
   "cell_type": "code",
   "execution_count": 6,
   "id": "4c56c453",
   "metadata": {},
   "outputs": [
    {
     "name": "stdout",
     "output_type": "stream",
     "text": [
      "Timestamp           datetime64[ns]\n",
      "Degradation Rate           float64\n",
      "Charging Cycles              int64\n",
      "dtype: object\n"
     ]
    }
   ],
   "source": [
    "# Verifying changes\n",
    "print(datam.dtypes)"
   ]
  },
  {
   "cell_type": "code",
   "execution_count": 7,
   "id": "7eb2d2d4",
   "metadata": {},
   "outputs": [
    {
     "data": {
      "text/html": [
       "<div>\n",
       "<style scoped>\n",
       "    .dataframe tbody tr th:only-of-type {\n",
       "        vertical-align: middle;\n",
       "    }\n",
       "\n",
       "    .dataframe tbody tr th {\n",
       "        vertical-align: top;\n",
       "    }\n",
       "\n",
       "    .dataframe thead th {\n",
       "        text-align: right;\n",
       "    }\n",
       "</style>\n",
       "<table border=\"1\" class=\"dataframe\">\n",
       "  <thead>\n",
       "    <tr style=\"text-align: right;\">\n",
       "      <th></th>\n",
       "      <th>Degradation Rate</th>\n",
       "      <th>Charging Cycles</th>\n",
       "    </tr>\n",
       "  </thead>\n",
       "  <tbody>\n",
       "    <tr>\n",
       "      <th>count</th>\n",
       "      <td>1000.000000</td>\n",
       "      <td>1000.000000</td>\n",
       "    </tr>\n",
       "    <tr>\n",
       "      <th>mean</th>\n",
       "      <td>1.068710</td>\n",
       "      <td>268.899000</td>\n",
       "    </tr>\n",
       "    <tr>\n",
       "      <th>std</th>\n",
       "      <td>0.545515</td>\n",
       "      <td>127.939334</td>\n",
       "    </tr>\n",
       "    <tr>\n",
       "      <th>min</th>\n",
       "      <td>0.100000</td>\n",
       "      <td>50.000000</td>\n",
       "    </tr>\n",
       "    <tr>\n",
       "      <th>25%</th>\n",
       "      <td>0.590000</td>\n",
       "      <td>158.000000</td>\n",
       "    </tr>\n",
       "    <tr>\n",
       "      <th>50%</th>\n",
       "      <td>1.100000</td>\n",
       "      <td>262.000000</td>\n",
       "    </tr>\n",
       "    <tr>\n",
       "      <th>75%</th>\n",
       "      <td>1.520000</td>\n",
       "      <td>378.000000</td>\n",
       "    </tr>\n",
       "    <tr>\n",
       "      <th>max</th>\n",
       "      <td>2.000000</td>\n",
       "      <td>500.000000</td>\n",
       "    </tr>\n",
       "  </tbody>\n",
       "</table>\n",
       "</div>"
      ],
      "text/plain": [
       "       Degradation Rate  Charging Cycles\n",
       "count       1000.000000      1000.000000\n",
       "mean           1.068710       268.899000\n",
       "std            0.545515       127.939334\n",
       "min            0.100000        50.000000\n",
       "25%            0.590000       158.000000\n",
       "50%            1.100000       262.000000\n",
       "75%            1.520000       378.000000\n",
       "max            2.000000       500.000000"
      ]
     },
     "execution_count": 7,
     "metadata": {},
     "output_type": "execute_result"
    }
   ],
   "source": [
    "datam.describe()"
   ]
  },
  {
   "cell_type": "code",
   "execution_count": 8,
   "id": "b4f44e64",
   "metadata": {},
   "outputs": [
    {
     "data": {
      "text/plain": [
       "(1000, 3)"
      ]
     },
     "execution_count": 8,
     "metadata": {},
     "output_type": "execute_result"
    }
   ],
   "source": [
    "datam.shape"
   ]
  },
  {
   "cell_type": "markdown",
   "id": "dcb338ed",
   "metadata": {},
   "source": [
    "### Statistical Analysis"
   ]
  },
  {
   "cell_type": "code",
   "execution_count": 9,
   "id": "e85ee154",
   "metadata": {},
   "outputs": [],
   "source": [
    "from scipy.stats import pearsonr\n",
    "from scipy.stats import ttest_ind"
   ]
  },
  {
   "cell_type": "code",
   "execution_count": 10,
   "id": "7dc72737",
   "metadata": {},
   "outputs": [
    {
     "name": "stdout",
     "output_type": "stream",
     "text": [
      "Pearson Correlation Coefficient: 0.07182542200797112\n",
      "P-value: 0.023122009393693427\n"
     ]
    }
   ],
   "source": [
    "# Pearson correlation coefficient\n",
    "correlation_coefficient, p_value = pearsonr(datam['Charging Cycles'], datam['Degradation Rate'])\n",
    "print(f\"Pearson Correlation Coefficient: {correlation_coefficient}\")\n",
    "print(f\"P-value: {p_value}\")"
   ]
  },
  {
   "cell_type": "markdown",
   "id": "7440106f",
   "metadata": {},
   "source": [
    "The Pearson Correlation Coefficient between charging cycles and degradation rates is approximately 0.072. The p-value associated with this correlation is 0.023.\n",
    "\n",
    "Interpretation:\n",
    "\n",
    "The positive correlation coefficient suggests a weak positive relationship between charging cycles and degradation rates.\n",
    "The p-value of 0.023 is less than the conventional significance level of 0.05, indicating that this correlation is statistically significant.\n",
    "This implies that there is a statistically significant, but weak, positive correlation between the number of charging cycles and the degradation rate. In other words, as the number of charging cycles increases, there is a tendency for a slightly higher degradation rate in EV batteries."
   ]
  },
  {
   "cell_type": "code",
   "execution_count": 11,
   "id": "2b2b2c78",
   "metadata": {},
   "outputs": [],
   "source": [
    "# Statistical test for significant differences\n",
    "high_cycles = datam[datam['Charging Cycles'] >= 200]['Degradation Rate']\n",
    "low_cycles = datam[datam['Charging Cycles'] < 200]['Degradation Rate']"
   ]
  },
  {
   "cell_type": "code",
   "execution_count": 12,
   "id": "b9829427",
   "metadata": {},
   "outputs": [
    {
     "name": "stdout",
     "output_type": "stream",
     "text": [
      "T-statistic: 2.7049082378005425\n",
      "P-value for the t-test: 0.006948667027783322\n"
     ]
    }
   ],
   "source": [
    "t_statistic, t_p_value = ttest_ind(high_cycles, low_cycles)\n",
    "print(f\"T-statistic: {t_statistic}\")\n",
    "print(f\"P-value for the t-test: {t_p_value}\")"
   ]
  },
  {
   "cell_type": "markdown",
   "id": "a13975c3",
   "metadata": {},
   "source": [
    "The t-statistic measures the difference between the sample mean (the correlation coefficient) and the null hypothesis value, normalized by the standard error.\n",
    "The p-value of 0.007 is less than the conventional significance level of 0.05, suggesting that we reject the null hypothesis.\n",
    "This result indicates that there is a statistically significant correlation between charging cycles and degradation rates. The positive t-statistic further supports the interpretation that there is a positive relationship between these variables."
   ]
  },
  {
   "cell_type": "code",
   "execution_count": 13,
   "id": "47940168",
   "metadata": {},
   "outputs": [
    {
     "data": {
      "image/png": "[encoded data removed]",
      "text/plain": [
       "<Figure size 720x432 with 1 Axes>"
      ]
     },
     "metadata": {
      "needs_background": "light"
     },
     "output_type": "display_data"
    }
   ],
   "source": [
    "# Distribution of Degradation Rates\n",
    "plt.figure(figsize=(10, 6))\n",
    "sns.histplot(datam['Degradation Rate'], bins=20, kde=True)\n",
    "plt.title('Distribution of Degradation Rates')\n",
    "plt.xlabel('Degradation Rate')\n",
    "plt.ylabel('Frequency')\n",
    "plt.show()"
   ]
  },
  {
   "cell_type": "markdown",
   "id": "750e6956",
   "metadata": {},
   "source": [
    "The distribution of degradation rates appears to be roughly unimodal.\n",
    "The peak frequency is around 40, suggesting that the most common degradation rates fall within a certain range.\n",
    "The distribution tails off towards both ends, indicating that there are fewer instances of very low or very high degradation rates."
   ]
  },
  {
   "cell_type": "code",
   "execution_count": 14,
   "id": "3ef0b466",
   "metadata": {},
   "outputs": [
    {
     "data": {
      "image/png": "[encoded data removed]",
      "text/plain": [
       "<Figure size 720x432 with 1 Axes>"
      ]
     },
     "metadata": {
      "needs_background": "light"
     },
     "output_type": "display_data"
    }
   ],
   "source": [
    "# Scatter plot of Charging Cycles vs Degradation Rate\n",
    "plt.figure(figsize=(10, 6))\n",
    "sns.scatterplot(x='Charging Cycles', y='Degradation Rate', data=datam)\n",
    "plt.title('Scatter Plot of Charging Cycles vs Degradation Rate')\n",
    "plt.xlabel('Charging Cycles')\n",
    "plt.ylabel('Degradation Rate')\n",
    "plt.show()"
   ]
  },
  {
   "cell_type": "markdown",
   "id": "843ed072",
   "metadata": {},
   "source": [
    "From the scatter there is significant correlation between charging cycles and degradation rates."
   ]
  },
  {
   "cell_type": "markdown",
   "id": "1b448d4a",
   "metadata": {},
   "source": [
    "### Correlation Heatmap"
   ]
  },
  {
   "cell_type": "code",
   "execution_count": 15,
   "id": "87860c90",
   "metadata": {},
   "outputs": [
    {
     "data": {
      "image/png": "[encoded data removed]",
      "text/plain": [
       "<Figure size 576x432 with 2 Axes>"
      ]
     },
     "metadata": {
      "needs_background": "light"
     },
     "output_type": "display_data"
    }
   ],
   "source": [
    "# Selecting relevant columns\n",
    "selected_columns = datam[['Degradation Rate', 'Charging Cycles']]\n",
    "\n",
    "# Create a correlation matrix\n",
    "correlation_matrix = selected_columns.corr()\n",
    "\n",
    "# Create a heatmap\n",
    "plt.figure(figsize=(8, 6))\n",
    "sns.heatmap(correlation_matrix, annot=True, cmap='coolwarm', fmt=\".2f\", linewidths=.5)\n",
    "plt.title('Correlation Matrix')\n",
    "plt.show()"
   ]
  },
  {
   "cell_type": "markdown",
   "id": "6d85258d",
   "metadata": {},
   "source": [
    "There is a very weak positive correlation between Degradation Rate and Charging Cycles"
   ]
  },
  {
   "cell_type": "markdown",
   "id": "185e9584",
   "metadata": {},
   "source": [
    "### Training Dataset"
   ]
  },
  {
   "cell_type": "code",
   "execution_count": 16,
   "id": "7551a1e2",
   "metadata": {},
   "outputs": [],
   "source": [
    "from sklearn.model_selection import train_test_split\n",
    "from sklearn.linear_model import LinearRegression\n",
    "from sklearn.metrics import mean_squared_error, r2_score"
   ]
  },
  {
   "cell_type": "code",
   "execution_count": 17,
   "id": "a5cfc9d1",
   "metadata": {},
   "outputs": [],
   "source": [
    "# Selecting features (Charging Cycles) and target variable (Degradation Rate)\n",
    "X = datam[['Charging Cycles']]\n",
    "y = datam['Degradation Rate']"
   ]
  },
  {
   "cell_type": "code",
   "execution_count": 18,
   "id": "415d4f0d",
   "metadata": {},
   "outputs": [],
   "source": [
    "# Splitting the dataset into training and testing sets\n",
    "X_train, X_test, y_train, y_test = train_test_split(X, y, test_size=0.2, random_state=42)"
   ]
  },
  {
   "cell_type": "markdown",
   "id": "0d921a6a",
   "metadata": {},
   "source": [
    "### Creating a Linear Regression Model"
   ]
  },
  {
   "cell_type": "code",
   "execution_count": 19,
   "id": "891e8289",
   "metadata": {},
   "outputs": [],
   "source": [
    "# Creating a linear regression model\n",
    "model = LinearRegression()"
   ]
  },
  {
   "cell_type": "code",
   "execution_count": 20,
   "id": "305ab882",
   "metadata": {},
   "outputs": [
    {
     "data": {
      "text/html": [
       "<style>#sk-container-id-1 {color: black;}#sk-container-id-1 pre{padding: 0;}#sk-container-id-1 div.sk-toggleable {background-color: white;}#sk-container-id-1 label.sk-toggleable__label {cursor: pointer;display: block;width: 100%;margin-bottom: 0;padding: 0.3em;box-sizing: border-box;text-align: center;}#sk-container-id-1 label.sk-toggleable__label-arrow:before {content: \"▸\";float: left;margin-right: 0.25em;color: #696969;}#sk-container-id-1 label.sk-toggleable__label-arrow:hover:before {color: black;}#sk-container-id-1 div.sk-estimator:hover label.sk-toggleable__label-arrow:before {color: black;}#sk-container-id-1 div.sk-toggleable__content {max-height: 0;max-width: 0;overflow: hidden;text-align: left;background-color: #f0f8ff;}#sk-container-id-1 div.sk-toggleable__content pre {margin: 0.2em;color: black;border-radius: 0.25em;background-color: #f0f8ff;}#sk-container-id-1 input.sk-toggleable__control:checked~div.sk-toggleable__content {max-height: 200px;max-width: 100%;overflow: auto;}#sk-container-id-1 input.sk-toggleable__control:checked~label.sk-toggleable__label-arrow:before {content: \"▾\";}#sk-container-id-1 div.sk-estimator input.sk-toggleable__control:checked~label.sk-toggleable__label {background-color: #d4ebff;}#sk-container-id-1 div.sk-label input.sk-toggleable__control:checked~label.sk-toggleable__label {background-color: #d4ebff;}#sk-container-id-1 input.sk-hidden--visually {border: 0;clip: rect(1px 1px 1px 1px);clip: rect(1px, 1px, 1px, 1px);height: 1px;margin: -1px;overflow: hidden;padding: 0;position: absolute;width: 1px;}#sk-container-id-1 div.sk-estimator {font-family: monospace;background-color: #f0f8ff;border: 1px dotted black;border-radius: 0.25em;box-sizing: border-box;margin-bottom: 0.5em;}#sk-container-id-1 div.sk-estimator:hover {background-color: #d4ebff;}#sk-container-id-1 div.sk-parallel-item::after {content: \"\";width: 100%;border-bottom: 1px solid gray;flex-grow: 1;}#sk-container-id-1 div.sk-label:hover label.sk-toggleable__label {background-color: #d4ebff;}#sk-container-id-1 div.sk-serial::before {content: \"\";position: absolute;border-left: 1px solid gray;box-sizing: border-box;top: 0;bottom: 0;left: 50%;z-index: 0;}#sk-container-id-1 div.sk-serial {display: flex;flex-direction: column;align-items: center;background-color: white;padding-right: 0.2em;padding-left: 0.2em;position: relative;}#sk-container-id-1 div.sk-item {position: relative;z-index: 1;}#sk-container-id-1 div.sk-parallel {display: flex;align-items: stretch;justify-content: center;background-color: white;position: relative;}#sk-container-id-1 div.sk-item::before, #sk-container-id-1 div.sk-parallel-item::before {content: \"\";position: absolute;border-left: 1px solid gray;box-sizing: border-box;top: 0;bottom: 0;left: 50%;z-index: -1;}#sk-container-id-1 div.sk-parallel-item {display: flex;flex-direction: column;z-index: 1;position: relative;background-color: white;}#sk-container-id-1 div.sk-parallel-item:first-child::after {align-self: flex-end;width: 50%;}#sk-container-id-1 div.sk-parallel-item:last-child::after {align-self: flex-start;width: 50%;}#sk-container-id-1 div.sk-parallel-item:only-child::after {width: 0;}#sk-container-id-1 div.sk-dashed-wrapped {border: 1px dashed gray;margin: 0 0.4em 0.5em 0.4em;box-sizing: border-box;padding-bottom: 0.4em;background-color: white;}#sk-container-id-1 div.sk-label label {font-family: monospace;font-weight: bold;display: inline-block;line-height: 1.2em;}#sk-container-id-1 div.sk-label-container {text-align: center;}#sk-container-id-1 div.sk-container {/* jupyter's `normalize.less` sets `[hidden] { display: none; }` but bootstrap.min.css set `[hidden] { display: none !important; }` so we also need the `!important` here to be able to override the default hidden behavior on the sphinx rendered scikit-learn.org. See: https://github.com/scikit-learn/scikit-learn/issues/21755 */display: inline-block !important;position: relative;}#sk-container-id-1 div.sk-text-repr-fallback {display: none;}</style><div id=\"sk-container-id-1\" class=\"sk-top-container\"><div class=\"sk-text-repr-fallback\"><pre>LinearRegression()</pre><b>In a Jupyter environment, please rerun this cell to show the HTML representation or trust the notebook. <br />On GitHub, the HTML representation is unable to render, please try loading this page with nbviewer.org.</b></div><div class=\"sk-container\" hidden><div class=\"sk-item\"><div class=\"sk-estimator sk-toggleable\"><input class=\"sk-toggleable__control sk-hidden--visually\" id=\"sk-estimator-id-1\" type=\"checkbox\" checked><label for=\"sk-estimator-id-1\" class=\"sk-toggleable__label sk-toggleable__label-arrow\">LinearRegression</label><div class=\"sk-toggleable__content\"><pre>LinearRegression()</pre></div></div></div></div></div>"
      ],
      "text/plain": [
       "LinearRegression()"
      ]
     },
     "execution_count": 20,
     "metadata": {},
     "output_type": "execute_result"
    }
   ],
   "source": [
    "# Training the model\n",
    "model.fit(X_train, y_train)"
   ]
  },
  {
   "cell_type": "code",
   "execution_count": 21,
   "id": "d1c445b1",
   "metadata": {},
   "outputs": [],
   "source": [
    "# Making predictions on the test set\n",
    "y_pred = model.predict(X_test)"
   ]
  },
  {
   "cell_type": "code",
   "execution_count": 22,
   "id": "55d930bd",
   "metadata": {},
   "outputs": [],
   "source": [
    "# Evaluating the model\n",
    "mse = mean_squared_error(y_test, y_pred)\n",
    "r2 = r2_score(y_test, y_pred)"
   ]
  },
  {
   "cell_type": "code",
   "execution_count": 23,
   "id": "59fdc528",
   "metadata": {},
   "outputs": [
    {
     "name": "stdout",
     "output_type": "stream",
     "text": [
      "Mean Squared Error: 0.2967414713424364\n",
      "R-squared: -0.005927878245554519\n"
     ]
    }
   ],
   "source": [
    "# Printing model performance metrics\n",
    "print(f'Mean Squared Error: {mse}')\n",
    "print(f'R-squared: {r2}')"
   ]
  },
  {
   "cell_type": "markdown",
   "id": "c33414bf",
   "metadata": {},
   "source": [
    "MSE = 0.2967. This means, on average, the squared difference between the predicted and actual Degradation Rates is 0.2967. The lower the MSE, the better the model fits the data. The MSE measures the average squared difference between predicted values and actual values. Lower MSE values indicate better model performance.\n",
    "R² = -0.0059. This value is very close to zero, indicating that the model doesn't explain much of the variance in the Degradation Rate. "
   ]
  },
  {
   "cell_type": "code",
   "execution_count": 24,
   "id": "2bca8507",
   "metadata": {},
   "outputs": [
    {
     "data": {
      "image/png": "[encoded data removed]",
      "text/plain": [
       "<Figure size 432x288 with 1 Axes>"
      ]
     },
     "metadata": {
      "needs_background": "light"
     },
     "output_type": "display_data"
    }
   ],
   "source": [
    "# Visualizing the regression line\n",
    "plt.scatter(X_test, y_test, color='black')\n",
    "plt.plot(X_test, y_pred, color='blue', linewidth=3)\n",
    "plt.xlabel('Charging Cycles')\n",
    "plt.ylabel('Degradation Rate')\n",
    "plt.title('Linear Regression Model')\n",
    "plt.show()"
   ]
  },
  {
   "cell_type": "markdown",
   "id": "7073e9e0",
   "metadata": {},
   "source": [
    "### K-Nearest Neighbor Model (KNN)"
   ]
  },
  {
   "cell_type": "code",
   "execution_count": 25,
   "id": "2d44b37f",
   "metadata": {},
   "outputs": [],
   "source": [
    "from sklearn.model_selection import train_test_split\n",
    "from sklearn.neighbors import KNeighborsClassifier\n",
    "from sklearn.metrics import accuracy_score, classification_report"
   ]
  },
  {
   "cell_type": "code",
   "execution_count": 26,
   "id": "726700f5",
   "metadata": {},
   "outputs": [],
   "source": [
    "# Creating KNN model\n",
    "knn_model = KNeighborsClassifier(n_neighbors=3)  # You can adjust the value of 'n_neighbors'\n"
   ]
  },
  {
   "cell_type": "code",
   "execution_count": 27,
   "id": "8a43978c",
   "metadata": {},
   "outputs": [],
   "source": [
    "# Separating features (X) and target variable (y)\n",
    "X = datam[['Degradation Rate']]\n",
    "y = datam['Charging Cycles']"
   ]
  },
  {
   "cell_type": "code",
   "execution_count": 28,
   "id": "de137583",
   "metadata": {},
   "outputs": [],
   "source": [
    "# Spliting the data into training and testing sets\n",
    "X_train, X_test, y_train, y_test = train_test_split(X, y, test_size=0.2, random_state=42)\n"
   ]
  },
  {
   "cell_type": "code",
   "execution_count": 29,
   "id": "0216bf47",
   "metadata": {},
   "outputs": [],
   "source": [
    "# Creating KNN model\n",
    "knn_model = KNeighborsClassifier(n_neighbors=3)  # You can adjust the value of 'n_neighbors'"
   ]
  },
  {
   "cell_type": "code",
   "execution_count": 30,
   "id": "b3cb6ed8",
   "metadata": {},
   "outputs": [
    {
     "data": {
      "text/html": [
       "<style>#sk-container-id-2 {color: black;}#sk-container-id-2 pre{padding: 0;}#sk-container-id-2 div.sk-toggleable {background-color: white;}#sk-container-id-2 label.sk-toggleable__label {cursor: pointer;display: block;width: 100%;margin-bottom: 0;padding: 0.3em;box-sizing: border-box;text-align: center;}#sk-container-id-2 label.sk-toggleable__label-arrow:before {content: \"▸\";float: left;margin-right: 0.25em;color: #696969;}#sk-container-id-2 label.sk-toggleable__label-arrow:hover:before {color: black;}#sk-container-id-2 div.sk-estimator:hover label.sk-toggleable__label-arrow:before {color: black;}#sk-container-id-2 div.sk-toggleable__content {max-height: 0;max-width: 0;overflow: hidden;text-align: left;background-color: #f0f8ff;}#sk-container-id-2 div.sk-toggleable__content pre {margin: 0.2em;color: black;border-radius: 0.25em;background-color: #f0f8ff;}#sk-container-id-2 input.sk-toggleable__control:checked~div.sk-toggleable__content {max-height: 200px;max-width: 100%;overflow: auto;}#sk-container-id-2 input.sk-toggleable__control:checked~label.sk-toggleable__label-arrow:before {content: \"▾\";}#sk-container-id-2 div.sk-estimator input.sk-toggleable__control:checked~label.sk-toggleable__label {background-color: #d4ebff;}#sk-container-id-2 div.sk-label input.sk-toggleable__control:checked~label.sk-toggleable__label {background-color: #d4ebff;}#sk-container-id-2 input.sk-hidden--visually {border: 0;clip: rect(1px 1px 1px 1px);clip: rect(1px, 1px, 1px, 1px);height: 1px;margin: -1px;overflow: hidden;padding: 0;position: absolute;width: 1px;}#sk-container-id-2 div.sk-estimator {font-family: monospace;background-color: #f0f8ff;border: 1px dotted black;border-radius: 0.25em;box-sizing: border-box;margin-bottom: 0.5em;}#sk-container-id-2 div.sk-estimator:hover {background-color: #d4ebff;}#sk-container-id-2 div.sk-parallel-item::after {content: \"\";width: 100%;border-bottom: 1px solid gray;flex-grow: 1;}#sk-container-id-2 div.sk-label:hover label.sk-toggleable__label {background-color: #d4ebff;}#sk-container-id-2 div.sk-serial::before {content: \"\";position: absolute;border-left: 1px solid gray;box-sizing: border-box;top: 0;bottom: 0;left: 50%;z-index: 0;}#sk-container-id-2 div.sk-serial {display: flex;flex-direction: column;align-items: center;background-color: white;padding-right: 0.2em;padding-left: 0.2em;position: relative;}#sk-container-id-2 div.sk-item {position: relative;z-index: 1;}#sk-container-id-2 div.sk-parallel {display: flex;align-items: stretch;justify-content: center;background-color: white;position: relative;}#sk-container-id-2 div.sk-item::before, #sk-container-id-2 div.sk-parallel-item::before {content: \"\";position: absolute;border-left: 1px solid gray;box-sizing: border-box;top: 0;bottom: 0;left: 50%;z-index: -1;}#sk-container-id-2 div.sk-parallel-item {display: flex;flex-direction: column;z-index: 1;position: relative;background-color: white;}#sk-container-id-2 div.sk-parallel-item:first-child::after {align-self: flex-end;width: 50%;}#sk-container-id-2 div.sk-parallel-item:last-child::after {align-self: flex-start;width: 50%;}#sk-container-id-2 div.sk-parallel-item:only-child::after {width: 0;}#sk-container-id-2 div.sk-dashed-wrapped {border: 1px dashed gray;margin: 0 0.4em 0.5em 0.4em;box-sizing: border-box;padding-bottom: 0.4em;background-color: white;}#sk-container-id-2 div.sk-label label {font-family: monospace;font-weight: bold;display: inline-block;line-height: 1.2em;}#sk-container-id-2 div.sk-label-container {text-align: center;}#sk-container-id-2 div.sk-container {/* jupyter's `normalize.less` sets `[hidden] { display: none; }` but bootstrap.min.css set `[hidden] { display: none !important; }` so we also need the `!important` here to be able to override the default hidden behavior on the sphinx rendered scikit-learn.org. See: https://github.com/scikit-learn/scikit-learn/issues/21755 */display: inline-block !important;position: relative;}#sk-container-id-2 div.sk-text-repr-fallback {display: none;}</style><div id=\"sk-container-id-2\" class=\"sk-top-container\"><div class=\"sk-text-repr-fallback\"><pre>KNeighborsClassifier(n_neighbors=3)</pre><b>In a Jupyter environment, please rerun this cell to show the HTML representation or trust the notebook. <br />On GitHub, the HTML representation is unable to render, please try loading this page with nbviewer.org.</b></div><div class=\"sk-container\" hidden><div class=\"sk-item\"><div class=\"sk-estimator sk-toggleable\"><input class=\"sk-toggleable__control sk-hidden--visually\" id=\"sk-estimator-id-2\" type=\"checkbox\" checked><label for=\"sk-estimator-id-2\" class=\"sk-toggleable__label sk-toggleable__label-arrow\">KNeighborsClassifier</label><div class=\"sk-toggleable__content\"><pre>KNeighborsClassifier(n_neighbors=3)</pre></div></div></div></div></div>"
      ],
      "text/plain": [
       "KNeighborsClassifier(n_neighbors=3)"
      ]
     },
     "execution_count": 30,
     "metadata": {},
     "output_type": "execute_result"
    }
   ],
   "source": [
    "# Training the model\n",
    "knn_model.fit(X_train, y_train)"
   ]
  },
  {
   "cell_type": "code",
   "execution_count": 31,
   "id": "9c0c632b",
   "metadata": {},
   "outputs": [],
   "source": [
    "# Making predictions on the test set\n",
    "y_pred = knn_model.predict(X_test)"
   ]
  },
  {
   "cell_type": "code",
   "execution_count": 32,
   "id": "fe20fea1",
   "metadata": {},
   "outputs": [
    {
     "name": "stdout",
     "output_type": "stream",
     "text": [
      "Accuracy: 0.00\n"
     ]
    }
   ],
   "source": [
    "# Evaluating the model\n",
    "accuracy = accuracy_score(y_test, y_pred)\n",
    "print(f\"Accuracy: {accuracy:.2f}\")\n"
   ]
  },
  {
   "cell_type": "code",
   "execution_count": 33,
   "id": "76af219f",
   "metadata": {},
   "outputs": [
    {
     "name": "stdout",
     "output_type": "stream",
     "text": [
      "              precision    recall  f1-score   support\n",
      "\n",
      "          50       0.00      0.00      0.00       0.0\n",
      "          51       0.00      0.00      0.00       1.0\n",
      "          52       0.00      0.00      0.00       0.0\n",
      "          53       0.00      0.00      0.00       1.0\n",
      "          54       0.00      0.00      0.00       0.0\n",
      "          55       0.00      0.00      0.00       0.0\n",
      "          56       0.00      0.00      0.00       0.0\n",
      "          57       0.00      0.00      0.00       0.0\n",
      "          58       0.00      0.00      0.00       2.0\n",
      "          59       0.00      0.00      0.00       0.0\n",
      "          60       0.00      0.00      0.00       2.0\n",
      "          61       0.00      0.00      0.00       0.0\n",
      "          62       0.00      0.00      0.00       0.0\n",
      "          64       0.00      0.00      0.00       1.0\n",
      "          67       0.00      0.00      0.00       2.0\n",
      "          68       0.00      0.00      0.00       0.0\n",
      "          69       0.00      0.00      0.00       0.0\n",
      "          70       0.00      0.00      0.00       1.0\n",
      "          71       0.00      0.00      0.00       1.0\n",
      "          72       0.00      0.00      0.00       0.0\n",
      "          74       0.00      0.00      0.00       0.0\n",
      "          75       0.00      0.00      0.00       1.0\n",
      "          78       0.00      0.00      0.00       1.0\n",
      "          79       0.00      0.00      0.00       0.0\n",
      "          81       0.00      0.00      0.00       0.0\n",
      "          83       0.00      0.00      0.00       0.0\n",
      "          84       0.00      0.00      0.00       0.0\n",
      "          86       0.00      0.00      0.00       0.0\n",
      "          87       0.00      0.00      0.00       1.0\n",
      "          89       0.00      0.00      0.00       0.0\n",
      "          91       0.00      0.00      0.00       0.0\n",
      "          92       0.00      0.00      0.00       0.0\n",
      "          95       0.00      0.00      0.00       0.0\n",
      "          96       0.00      0.00      0.00       2.0\n",
      "          97       0.00      0.00      0.00       1.0\n",
      "         100       0.00      0.00      0.00       0.0\n",
      "         101       0.00      0.00      0.00       1.0\n",
      "         103       0.00      0.00      0.00       1.0\n",
      "         104       0.00      0.00      0.00       0.0\n",
      "         106       0.00      0.00      0.00       0.0\n",
      "         109       0.00      0.00      0.00       1.0\n",
      "         110       0.00      0.00      0.00       1.0\n",
      "         111       0.00      0.00      0.00       0.0\n",
      "         112       0.00      0.00      0.00       0.0\n",
      "         113       0.00      0.00      0.00       2.0\n",
      "         114       0.00      0.00      0.00       1.0\n",
      "         115       0.00      0.00      0.00       1.0\n",
      "         116       0.00      0.00      0.00       1.0\n",
      "         118       0.00      0.00      0.00       3.0\n",
      "         119       0.00      0.00      0.00       2.0\n",
      "         120       0.00      0.00      0.00       1.0\n",
      "         121       0.00      0.00      0.00       0.0\n",
      "         122       0.00      0.00      0.00       2.0\n",
      "         126       0.00      0.00      0.00       0.0\n",
      "         127       0.00      0.00      0.00       1.0\n",
      "         128       0.00      0.00      0.00       0.0\n",
      "         130       0.00      0.00      0.00       0.0\n",
      "         131       0.00      0.00      0.00       1.0\n",
      "         132       0.00      0.00      0.00       0.0\n",
      "         134       0.00      0.00      0.00       0.0\n",
      "         135       0.00      0.00      0.00       1.0\n",
      "         136       0.00      0.00      0.00       1.0\n",
      "         138       0.00      0.00      0.00       1.0\n",
      "         140       0.00      0.00      0.00       1.0\n",
      "         141       0.00      0.00      0.00       2.0\n",
      "         142       0.00      0.00      0.00       1.0\n",
      "         144       0.00      0.00      0.00       1.0\n",
      "         145       0.00      0.00      0.00       1.0\n",
      "         146       0.00      0.00      0.00       0.0\n",
      "         148       0.00      0.00      0.00       1.0\n",
      "         149       0.00      0.00      0.00       0.0\n",
      "         150       0.00      0.00      0.00       0.0\n",
      "         152       0.00      0.00      0.00       0.0\n",
      "         153       0.00      0.00      0.00       0.0\n",
      "         154       0.00      0.00      0.00       0.0\n",
      "         155       0.00      0.00      0.00       1.0\n",
      "         157       0.00      0.00      0.00       0.0\n",
      "         159       0.00      0.00      0.00       1.0\n",
      "         162       0.00      0.00      0.00       1.0\n",
      "         164       0.00      0.00      0.00       0.0\n",
      "         165       0.00      0.00      0.00       0.0\n",
      "         166       0.00      0.00      0.00       0.0\n",
      "         168       0.00      0.00      0.00       1.0\n",
      "         169       0.00      0.00      0.00       1.0\n",
      "         170       0.00      0.00      0.00       2.0\n",
      "         172       0.00      0.00      0.00       0.0\n",
      "         174       0.00      0.00      0.00       1.0\n",
      "         177       0.00      0.00      0.00       0.0\n",
      "         178       0.00      0.00      0.00       1.0\n",
      "         179       0.00      0.00      0.00       1.0\n",
      "         180       0.00      0.00      0.00       1.0\n",
      "         181       0.00      0.00      0.00       1.0\n",
      "         182       0.00      0.00      0.00       1.0\n",
      "         183       0.00      0.00      0.00       0.0\n",
      "         192       0.00      0.00      0.00       1.0\n",
      "         194       0.00      0.00      0.00       1.0\n",
      "         195       0.00      0.00      0.00       1.0\n",
      "         196       0.00      0.00      0.00       0.0\n",
      "         197       0.00      0.00      0.00       2.0\n",
      "         199       0.00      0.00      0.00       0.0\n",
      "         202       0.00      0.00      0.00       1.0\n",
      "         204       0.00      0.00      0.00       0.0\n",
      "         207       0.00      0.00      0.00       2.0\n",
      "         208       0.00      0.00      0.00       2.0\n",
      "         209       0.00      0.00      0.00       1.0\n",
      "         210       0.00      0.00      0.00       1.0\n",
      "         211       0.00      0.00      0.00       1.0\n",
      "         212       0.00      0.00      0.00       0.0\n",
      "         213       0.00      0.00      0.00       1.0\n",
      "         214       0.00      0.00      0.00       1.0\n",
      "         218       0.00      0.00      0.00       2.0\n",
      "         222       0.00      0.00      0.00       2.0\n",
      "         225       0.00      0.00      0.00       0.0\n",
      "         226       0.00      0.00      0.00       0.0\n",
      "         227       0.00      0.00      0.00       2.0\n",
      "         228       0.00      0.00      0.00       2.0\n",
      "         229       0.00      0.00      0.00       1.0\n",
      "         232       0.00      0.00      0.00       0.0\n",
      "         233       0.00      0.00      0.00       1.0\n",
      "         234       0.00      0.00      0.00       1.0\n",
      "         235       0.00      0.00      0.00       2.0\n",
      "         236       0.00      0.00      0.00       0.0\n",
      "         238       0.00      0.00      0.00       2.0\n",
      "         239       0.00      0.00      0.00       1.0\n",
      "         242       0.00      0.00      0.00       0.0\n",
      "         243       0.00      0.00      0.00       1.0\n",
      "         244       0.00      0.00      0.00       2.0\n",
      "         245       0.00      0.00      0.00       0.0\n",
      "         248       0.00      0.00      0.00       0.0\n",
      "         249       0.00      0.00      0.00       1.0\n",
      "         251       0.00      0.00      0.00       2.0\n",
      "         252       0.00      0.00      0.00       0.0\n",
      "         253       0.00      0.00      0.00       1.0\n",
      "         254       0.00      0.00      0.00       0.0\n",
      "         255       0.00      0.00      0.00       1.0\n",
      "         256       0.00      0.00      0.00       2.0\n",
      "         258       0.00      0.00      0.00       1.0\n",
      "         259       0.00      0.00      0.00       1.0\n",
      "         260       0.00      0.00      0.00       1.0\n",
      "         270       0.00      0.00      0.00       2.0\n",
      "         272       0.00      0.00      0.00       0.0\n",
      "         273       0.00      0.00      0.00       0.0\n",
      "         276       0.00      0.00      0.00       1.0\n",
      "         277       0.00      0.00      0.00       1.0\n",
      "         278       0.00      0.00      0.00       0.0\n",
      "         279       0.00      0.00      0.00       1.0\n",
      "         282       0.00      0.00      0.00       1.0\n",
      "         284       0.00      0.00      0.00       0.0\n",
      "         285       0.00      0.00      0.00       0.0\n",
      "         286       0.00      0.00      0.00       1.0\n",
      "         287       0.00      0.00      0.00       0.0\n",
      "         289       0.00      0.00      0.00       2.0\n",
      "         293       0.00      0.00      0.00       0.0\n",
      "         294       0.00      0.00      0.00       1.0\n",
      "         296       0.00      0.00      0.00       1.0\n",
      "         297       0.00      0.00      0.00       0.0\n",
      "         300       0.00      0.00      0.00       0.0\n",
      "         301       0.00      0.00      0.00       1.0\n",
      "         302       0.00      0.00      0.00       0.0\n",
      "         304       0.00      0.00      0.00       1.0\n",
      "         305       0.00      0.00      0.00       1.0\n",
      "         307       0.00      0.00      0.00       1.0\n",
      "         308       0.00      0.00      0.00       1.0\n",
      "         309       0.00      0.00      0.00       2.0\n",
      "         312       0.00      0.00      0.00       1.0\n",
      "         314       0.00      0.00      0.00       1.0\n",
      "         316       0.00      0.00      0.00       1.0\n",
      "         317       0.00      0.00      0.00       1.0\n",
      "         318       0.00      0.00      0.00       1.0\n",
      "         321       0.00      0.00      0.00       1.0\n",
      "         322       0.00      0.00      0.00       2.0\n",
      "         323       0.00      0.00      0.00       1.0\n",
      "         324       0.00      0.00      0.00       1.0\n",
      "         325       0.00      0.00      0.00       2.0\n",
      "         329       0.00      0.00      0.00       1.0\n",
      "         330       0.00      0.00      0.00       1.0\n",
      "         331       0.00      0.00      0.00       1.0\n",
      "         338       0.00      0.00      0.00       4.0\n",
      "         339       0.00      0.00      0.00       1.0\n",
      "         340       0.00      0.00      0.00       1.0\n",
      "         344       0.00      0.00      0.00       1.0\n",
      "         345       0.00      0.00      0.00       1.0\n",
      "         346       0.00      0.00      0.00       1.0\n",
      "         349       0.00      0.00      0.00       1.0\n",
      "         352       0.00      0.00      0.00       0.0\n",
      "         354       0.00      0.00      0.00       1.0\n",
      "         355       0.00      0.00      0.00       1.0\n",
      "         356       0.00      0.00      0.00       1.0\n",
      "         358       0.00      0.00      0.00       1.0\n",
      "         359       0.00      0.00      0.00       1.0\n",
      "         360       0.00      0.00      0.00       1.0\n",
      "         367       0.00      0.00      0.00       1.0\n",
      "         376       0.00      0.00      0.00       1.0\n",
      "         377       0.00      0.00      0.00       1.0\n",
      "         379       0.00      0.00      0.00       0.0\n",
      "         383       0.00      0.00      0.00       2.0\n",
      "         388       0.00      0.00      0.00       2.0\n",
      "         390       0.00      0.00      0.00       1.0\n",
      "         393       0.00      0.00      0.00       0.0\n",
      "         397       0.00      0.00      0.00       1.0\n",
      "         401       0.00      0.00      0.00       1.0\n",
      "         406       0.00      0.00      0.00       1.0\n",
      "         409       0.00      0.00      0.00       1.0\n",
      "         412       0.00      0.00      0.00       1.0\n",
      "         415       0.00      0.00      0.00       1.0\n",
      "         420       0.00      0.00      0.00       1.0\n",
      "         423       0.00      0.00      0.00       1.0\n",
      "         425       0.00      0.00      0.00       1.0\n",
      "         429       0.00      0.00      0.00       1.0\n",
      "         430       0.00      0.00      0.00       1.0\n",
      "         434       0.00      0.00      0.00       1.0\n",
      "         435       0.00      0.00      0.00       1.0\n",
      "         437       0.00      0.00      0.00       1.0\n",
      "         440       0.00      0.00      0.00       2.0\n",
      "         441       0.00      0.00      0.00       1.0\n",
      "         444       0.00      0.00      0.00       1.0\n",
      "         449       0.00      0.00      0.00       1.0\n",
      "         453       0.00      0.00      0.00       1.0\n",
      "         456       0.00      0.00      0.00       1.0\n",
      "         462       0.00      0.00      0.00       1.0\n",
      "         463       0.00      0.00      0.00       1.0\n",
      "         464       0.00      0.00      0.00       1.0\n",
      "         465       0.00      0.00      0.00       1.0\n",
      "         467       0.00      0.00      0.00       1.0\n",
      "         469       0.00      0.00      0.00       1.0\n",
      "         471       0.00      0.00      0.00       2.0\n",
      "         472       0.00      0.00      0.00       1.0\n",
      "         477       0.00      0.00      0.00       2.0\n",
      "         478       0.00      0.00      0.00       1.0\n",
      "         483       0.00      0.00      0.00       1.0\n",
      "         486       0.00      0.00      0.00       1.0\n",
      "         488       0.00      0.00      0.00       1.0\n",
      "         490       0.00      0.00      0.00       1.0\n",
      "         494       0.00      0.00      0.00       1.0\n",
      "         496       0.00      0.00      0.00       1.0\n",
      "         497       0.00      0.00      0.00       1.0\n",
      "\n",
      "    accuracy                           0.00     200.0\n",
      "   macro avg       0.00      0.00      0.00     200.0\n",
      "weighted avg       0.00      0.00      0.00     200.0\n",
      "\n"
     ]
    },
    {
     "name": "stderr",
     "output_type": "stream",
     "text": [
      "C:\\ProgramData\\Anaconda3\\lib\\site-packages\\sklearn\\metrics\\_classification.py:1471: UndefinedMetricWarning: Precision and F-score are ill-defined and being set to 0.0 in labels with no predicted samples. Use `zero_division` parameter to control this behavior.\n",
      "  _warn_prf(average, modifier, msg_start, len(result))\n",
      "C:\\ProgramData\\Anaconda3\\lib\\site-packages\\sklearn\\metrics\\_classification.py:1471: UndefinedMetricWarning: Recall and F-score are ill-defined and being set to 0.0 in labels with no true samples. Use `zero_division` parameter to control this behavior.\n",
      "  _warn_prf(average, modifier, msg_start, len(result))\n",
      "C:\\ProgramData\\Anaconda3\\lib\\site-packages\\sklearn\\metrics\\_classification.py:1471: UndefinedMetricWarning: Precision and F-score are ill-defined and being set to 0.0 in labels with no predicted samples. Use `zero_division` parameter to control this behavior.\n",
      "  _warn_prf(average, modifier, msg_start, len(result))\n",
      "C:\\ProgramData\\Anaconda3\\lib\\site-packages\\sklearn\\metrics\\_classification.py:1471: UndefinedMetricWarning: Recall and F-score are ill-defined and being set to 0.0 in labels with no true samples. Use `zero_division` parameter to control this behavior.\n",
      "  _warn_prf(average, modifier, msg_start, len(result))\n",
      "C:\\ProgramData\\Anaconda3\\lib\\site-packages\\sklearn\\metrics\\_classification.py:1471: UndefinedMetricWarning: Precision and F-score are ill-defined and being set to 0.0 in labels with no predicted samples. Use `zero_division` parameter to control this behavior.\n",
      "  _warn_prf(average, modifier, msg_start, len(result))\n",
      "C:\\ProgramData\\Anaconda3\\lib\\site-packages\\sklearn\\metrics\\_classification.py:1471: UndefinedMetricWarning: Recall and F-score are ill-defined and being set to 0.0 in labels with no true samples. Use `zero_division` parameter to control this behavior.\n",
      "  _warn_prf(average, modifier, msg_start, len(result))\n"
     ]
    }
   ],
   "source": [
    "#Printing additional metrics if needed\n",
    "print(classification_report(y_test, y_pred))"
   ]
  },
  {
   "cell_type": "markdown",
   "id": "e31dced9",
   "metadata": {},
   "source": [
    "Since I used a faked data from faker, a zero accuracy could indicate that the model is not able to predict the 'Charging Cycles' correctly on the test set."
   ]
  },
  {
   "cell_type": "markdown",
   "id": "57a42f24",
   "metadata": {},
   "source": [
    "### Model Orchestration"
   ]
  },
  {
   "cell_type": "code",
   "execution_count": 34,
   "id": "06d9ffce",
   "metadata": {},
   "outputs": [
    {
     "data": {
      "text/plain": [
       "['regression_model.pkl']"
      ]
     },
     "execution_count": 34,
     "metadata": {},
     "output_type": "execute_result"
    }
   ],
   "source": [
    "import joblib\n",
    "\n",
    "joblib.dump(model, 'regression_model.pkl')\n"
   ]
  },
  {
   "cell_type": "code",
   "execution_count": 35,
   "id": "04cc96a7",
   "metadata": {},
   "outputs": [
    {
     "name": "stdout",
     "output_type": "stream",
     "text": [
      "Predicted Charging Cycles: 1.00239763512748\n"
     ]
    },
    {
     "name": "stderr",
     "output_type": "stream",
     "text": [
      "C:\\ProgramData\\Anaconda3\\lib\\site-packages\\sklearn\\base.py:465: UserWarning: X does not have valid feature names, but LinearRegression was fitted with feature names\n",
      "  warnings.warn(\n"
     ]
    }
   ],
   "source": [
    "import joblib\n",
    "\n",
    "def predict_charging_cycles(degradation_rate):\n",
    "    # Loading the trained model\n",
    "    model = joblib.load('regression_model.pkl')\n",
    "\n",
    "    # Making predictions\n",
    "    charging_cycles_prediction = model.predict([[degradation_rate]])\n",
    "\n",
    "    return charging_cycles_prediction[0]\n",
    "\n",
    "# Example usage:\n",
    "# Replacing 'your_degradation_rate_value' with the actual degradation rate you want to predict charging cycles for\n",
    "result = predict_charging_cycles(67)\n",
    "print(f\"Predicted Charging Cycles: {result}\")\n"
   ]
  }
 ],
 "metadata": {
  "kernelspec": {
   "display_name": "Python 3",
   "language": "python",
   "name": "python3"
  },
  "language_info": {
   "codemirror_mode": {
    "name": "ipython",
    "version": 3
   },
   "file_extension": ".py",
   "mimetype": "text/x-python",
   "name": "python",
   "nbconvert_exporter": "python",
   "pygments_lexer": "ipython3",
   "version": "3.8.8"
  }
 },
 "nbformat": 4,
 "nbformat_minor": 5
}
